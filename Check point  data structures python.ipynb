{
 "cells": [
  {
   "cell_type": "code",
   "execution_count": 1,
   "id": "20ca99c0",
   "metadata": {},
   "outputs": [
    {
     "name": "stdout",
     "output_type": "stream",
     "text": [
      "2\n",
      "6\n",
      "36\n"
     ]
    }
   ],
   "source": [
    "#Question 1\n",
    "L = [2, 3, 6]\n",
    "R = 1\n",
    "for v in L:\n",
    "    R = R*v\n",
    "    print(R)\n"
   ]
  },
  {
   "cell_type": "code",
   "execution_count": 28,
   "id": "f0ccc65d",
   "metadata": {},
   "outputs": [],
   "source": [
    "#Question 2\n",
    "L = [(2, 3), (1, 2), (4, 4), (2, 3), (2, 1)]\n",
    "def sort(L):\n",
    "    L.sort(key = lambda x: x[1], reverse = True)\n",
    "    print(sort(L))"
   ]
  },
  {
   "cell_type": "code",
   "execution_count": 34,
   "id": "aa289b76",
   "metadata": {},
   "outputs": [
    {
     "ename": "IndentationError",
     "evalue": "expected an indented block after 'if' statement on line 11 (286122304.py, line 12)",
     "output_type": "error",
     "traceback": [
      "\u001b[1;36m  Cell \u001b[1;32mIn[34], line 12\u001b[1;36m\u001b[0m\n\u001b[1;33m    else :\u001b[0m\n\u001b[1;37m    ^\u001b[0m\n\u001b[1;31mIndentationError\u001b[0m\u001b[1;31m:\u001b[0m expected an indented block after 'if' statement on line 11\n"
     ]
    }
   ],
   "source": [
    "#Question 3\n",
    "d1 = {\"a\": 100, \"b\": 200, \"c\": 300}\n",
    "d2 = {\"a\": 300, \"b\": 200, \"d\": 400}\n",
    "d3 = {}\n",
    "for key in d2.keys():\n",
    "    if key in d2.keys():\n",
    "        d3[key] = d[key] + d2[key]\n",
    "    else :\n",
    "        d3[key] = d[key]\n",
    "for key in d2.keys():\n",
    "    if key not in d.keys():\n",
    "    else :\n",
    "        d3[key] = d2[key]"
   ]
  },
  {
   "cell_type": "code",
   "execution_count": null,
   "id": "08ffde9a",
   "metadata": {},
   "outputs": [],
   "source": [
    "#Question 4\n",
    "nbr = int(input(\"Type a nbr:\"))\n",
    "nbrDict = {}\n",
    "for i in range (1, nbr + 1):\n",
    "    nbrDict[i] = i + i \n",
    "    print(nbrDict)"
   ]
  },
  {
   "cell_type": "code",
   "execution_count": null,
   "id": "02c5cbd7",
   "metadata": {},
   "outputs": [],
   "source": [
    "#Question 5\n",
    "list = [(\"item 1\", \"12.20\"), (\"item 2\", \"15.10\"), (\"item 3\", \"24.5\")]\n",
    "list.sort(key = lambda x: float(x[1], reverse = False)\n",
    "          print(sort(list))"
   ]
  },
  {
   "cell_type": "code",
   "execution_count": null,
   "id": "41d1157a",
   "metadata": {},
   "outputs": [],
   "source": [
    "#Question 6.1\n",
    "Exp = {0, 1, 2, 3, 4}\n",
    "j = 4\n",
    "for j in range set{}:\n",
    "    print(set)"
   ]
  },
  {
   "cell_type": "code",
   "execution_count": null,
   "id": "db1db1d0",
   "metadata": {},
   "outputs": [],
   "source": [
    "#Question 6.2\n",
    "j = 4\n",
    "for j in range set{}:\n",
    "    print(set)\n",
    "set.add(\"nbr\")\n",
    "print(set)\n",
    "set.remove(\"nbr\")\n",
    "print(set)"
   ]
  }
 ],
 "metadata": {
  "kernelspec": {
   "display_name": "Python 3 (ipykernel)",
   "language": "python",
   "name": "python3"
  },
  "language_info": {
   "codemirror_mode": {
    "name": "ipython",
    "version": 3
   },
   "file_extension": ".py",
   "mimetype": "text/x-python",
   "name": "python",
   "nbconvert_exporter": "python",
   "pygments_lexer": "ipython3",
   "version": "3.10.9"
  }
 },
 "nbformat": 4,
 "nbformat_minor": 5
}
