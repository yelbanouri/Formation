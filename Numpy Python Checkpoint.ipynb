{
 "cells": [
  {
   "cell_type": "code",
   "execution_count": null,
   "id": "442033b2",
   "metadata": {},
   "outputs": [
    {
     "name": "stdout",
     "output_type": "stream",
     "text": [
      "Enter the number of student: \n"
     ]
    }
   ],
   "source": [
    "#Import the Numpy library.\n",
    "import numpy as np\n",
    "#Enter the number of students and the number of subjects.\n",
    "print(\"Enter the number of student: \")\n",
    "student = int(input())\n",
    "print(\"Enter the number of subjects: \")\n",
    "subject = int(input())\n",
    "#Create a Numpy array to store the marks of each student in each subject.\n",
    "print(\"Enter Marks Obtained in 5 Subjects: \")\n",
    "mark1 = int(input())\n",
    "mark2 = int(input())\n",
    "mark3 = int(input())\n",
    "mark4 = int(input())\n",
    "mark5 = int(input())\n",
    "\n",
    "tot = mark1+mark2+mark3+mark4+mark5\n",
    "avg = tot/5\n",
    "\n",
    "if avg>=91 and avg<=100:\n",
    "    print(\"Your Grade is A+\")\n",
    "elif avg>=81 and avg<91:\n",
    "    print(\"Your Grade is A\")\n",
    "elif avg>=71 and avg<81:\n",
    "    print(\"Your Grade is B+\")\n",
    "elif avg>=61 and avg<71:\n",
    "    print(\"Your Grade is B\")\n",
    "elif avg>=51 and avg<61:\n",
    "    print(\"Your Grade is C\")\n",
    "elif avg>=0 and avg<51:\n",
    "    print(\"Your Grade is F\")\n",
    "\n",
    "else:\n",
    "    print(\"Invalid Input!\")"
   ]
  }
 ],
 "metadata": {
  "kernelspec": {
   "display_name": "Python 3 (ipykernel)",
   "language": "python",
   "name": "python3"
  },
  "language_info": {
   "codemirror_mode": {
    "name": "ipython",
    "version": 3
   },
   "file_extension": ".py",
   "mimetype": "text/x-python",
   "name": "python",
   "nbconvert_exporter": "python",
   "pygments_lexer": "ipython3",
   "version": "3.10.9"
  }
 },
 "nbformat": 4,
 "nbformat_minor": 5
}
