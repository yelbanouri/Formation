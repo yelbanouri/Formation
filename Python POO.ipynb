{
 "cells": [
  {
   "cell_type": "code",
   "execution_count": 12,
   "id": "ffa40054",
   "metadata": {},
   "outputs": [
    {
     "name": "stdout",
     "output_type": "stream",
     "text": [
      "(1, 2, 3)\n"
     ]
    }
   ],
   "source": [
    "class Point3D(object):\n",
    "    def __init__(self, x, y, z):\n",
    "        self.x = x\n",
    "        self.y = y\n",
    "        self.z = z\n",
    "    def __repr__(self):\n",
    "        return \"(%d, %d, %d)\" % (self.x, self.y, self.z)\n",
    "        \n",
    "my_point = Point3D(1,2,3)\n",
    "\n",
    "print (my_point)"
   ]
  },
  {
   "cell_type": "code",
   "execution_count": 17,
   "id": "5dd7ccb6",
   "metadata": {},
   "outputs": [
    {
     "name": "stdout",
     "output_type": "stream",
     "text": [
      "Area: 12\n",
      "Perimeter: 14\n"
     ]
    }
   ],
   "source": [
    "class Rectangle:\n",
    "    def __init__(self, length, width):\n",
    "        self.length = length\n",
    "        self.width = width\n",
    "\n",
    "    def area(self):\n",
    "        return self.length * self.width\n",
    "\n",
    "    def perimeter(self):\n",
    "        return 2 * (self.length + self.width)\n",
    "# rectangle object with length 5 and width 3\n",
    "my_rectangle = Rectangle(4, 3)\n",
    "\n",
    "# Calculate and print the area\n",
    "print(\"Area:\", my_rectangle.area())\n",
    "\n",
    "# Calculate and print the perimeter\n",
    "print(\"Perimeter:\", my_rectangle.perimeter())"
   ]
  },
  {
   "cell_type": "code",
   "execution_count": 18,
   "id": "3f46f460",
   "metadata": {},
   "outputs": [
    {
     "name": "stdout",
     "output_type": "stream",
     "text": [
      "200.96\n",
      "50.24\n"
     ]
    }
   ],
   "source": [
    "class Circle():\n",
    "    def __init__(self, r):\n",
    "        self.radius = r\n",
    "\n",
    "    def area(self):\n",
    "        return self.radius**2*3.14\n",
    "    \n",
    "    def perimeter(self):\n",
    "        return 2*self.radius*3.14\n",
    "\n",
    "NewCircle = Circle(8)\n",
    "print(NewCircle.area())\n",
    "print(NewCircle.perimeter())"
   ]
  },
  {
   "cell_type": "code",
   "execution_count": null,
   "id": "bd2b9382",
   "metadata": {},
   "outputs": [],
   "source": [
    "class Bank:\n",
    "    def __init__(self):\n",
    "        self.total_amount = 0\n",
    "        self.name = ''\n",
    "\n",
    "    def welcome(self):\n",
    "        self.name = input('Welcome to your Bank Account. Please Enter your name: ')\n",
    "\n",
    "    def print_current_balance(self):\n",
    "        print('Your Current balance : {}'.format(self.total_amount))\n",
    "\n",
    "    def deposit(self):\n",
    "        self.total_amount += float(input('Hello {}, please enter amount to deposit: '.format(self.name)))\n",
    "        self.print_current_balance()\n",
    "\n",
    "    def withdraw(self):\n",
    "        amount_to_withdraw = float(input('Enter amount to withdraw: '))\n",
    "\n",
    "        if amount_to_withdraw > self.total_amount:\n",
    "            print('Insufficient Balance !!')\n",
    "        else:\n",
    "            self.total_amount -= amount_to_withdraw\n",
    "\n",
    "        self.print_current_balance()\n",
    "\n",
    "\n",
    "if __name__==\"__main__\":\n",
    "    bank = Bank()\n",
    "    bank.welcome()\n",
    "\n",
    "    while True:\n",
    "        input_value = int(input('Enter 1 to see your balance,\\n2 to deposit\\n3 to withdraw\\n'))\n",
    "\n",
    "        if input_value == 1:\n",
    "            bank.print_current_balance()        \n",
    "        elif input_value == 2:\n",
    "            bank.deposit()\n",
    "        elif input_value == 3:\n",
    "            bank.withdraw()\n",
    "        else:\n",
    "            print('Please enter a valid input.')"
   ]
  }
 ],
 "metadata": {
  "kernelspec": {
   "display_name": "Python 3 (ipykernel)",
   "language": "python",
   "name": "python3"
  },
  "language_info": {
   "codemirror_mode": {
    "name": "ipython",
    "version": 3
   },
   "file_extension": ".py",
   "mimetype": "text/x-python",
   "name": "python",
   "nbconvert_exporter": "python",
   "pygments_lexer": "ipython3",
   "version": "3.10.9"
  }
 },
 "nbformat": 4,
 "nbformat_minor": 5
}
